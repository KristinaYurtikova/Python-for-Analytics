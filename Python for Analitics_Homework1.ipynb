{
 "cells": [
  {
   "cell_type": "markdown",
   "id": "b58eca35",
   "metadata": {},
   "source": [
    "## Задача 1"
   ]
  },
  {
   "cell_type": "markdown",
   "id": "eb84d0ee",
   "metadata": {},
   "source": [
    "#### На складе лежат разные фрукты в разном количестве. Нужно написать функцию, которая на вход принимает любое количество названий фруктов и их количество, а возвращает общее количество фруктов на складе\n",
    "\n"
   ]
  },
  {
   "cell_type": "markdown",
   "id": "d9a45c9d",
   "metadata": {},
   "source": [
    "kwargs - произвольное число именованных аргументов. При вызове функции, на его место передается список именованных аргументов заключенных в словарь, кроме тех, имена которых были определены ранее. Параметр kwargs может быть определен совместно с другим формальным параметром *args. Параметр kwargs указывается последним в области определения формальных параметров функции."
   ]
  },
  {
   "cell_type": "code",
   "execution_count": 14,
   "id": "e4b15564",
   "metadata": {},
   "outputs": [],
   "source": [
    "def count_fruits_1(**kwargs):\n",
    "    total_count = 0\n",
    "    for fruit, count in kwargs.items():\n",
    "        total_count += count\n",
    "    return total_count"
   ]
  },
  {
   "cell_type": "code",
   "execution_count": 16,
   "id": "1b4c9db7",
   "metadata": {},
   "outputs": [
    {
     "name": "stdout",
     "output_type": "stream",
     "text": [
      "Общее количество фруктов на складе = 750\n"
     ]
    }
   ],
   "source": [
    "print('Общее количество фруктов на складе =', count_fruits_1(\n",
    "    яблоки=100, бананы=150, мандарины=450, груши=50\n",
    "    ))"
   ]
  },
  {
   "cell_type": "markdown",
   "id": "a493b7a2",
   "metadata": {},
   "source": [
    "## Задача 2"
   ]
  },
  {
   "cell_type": "markdown",
   "id": "4f6b82d2",
   "metadata": {},
   "source": [
    "#### Дан список с затратами на рекламу. Но в данных есть ошибки, некоторые затраты имеют отрицательную величину. Удалите такие значения из списка и посчитайте суммарные затраты\n",
    "[100, 125, -90, 345, 655, -1, 0, 200]\n",
    "#### Используйте list comprehensions"
   ]
  },
  {
   "cell_type": "code",
   "execution_count": 17,
   "id": "547f21ee",
   "metadata": {},
   "outputs": [
    {
     "data": {
      "text/plain": [
       "[100, 125, 0, 345, 655, 0, 0, 200]"
      ]
     },
     "execution_count": 17,
     "metadata": {},
     "output_type": "execute_result"
    }
   ],
   "source": [
    "orig_prices = [100, 125, -90, 345, 655, -1, 0, 200]\n",
    "prices = [i if i > 0 else 0 for i in orig_prices]\n",
    "prices"
   ]
  },
  {
   "cell_type": "code",
   "execution_count": 19,
   "id": "ec69719f",
   "metadata": {},
   "outputs": [
    {
     "name": "stdout",
     "output_type": "stream",
     "text": [
      "(100, 125, 0, 345, 655, 0, 0, 200)\n",
      "<class 'tuple'>\n"
     ]
    },
    {
     "data": {
      "text/plain": [
       "1425"
      ]
     },
     "execution_count": 19,
     "metadata": {},
     "output_type": "execute_result"
    }
   ],
   "source": [
    "calc_sum(100, 125, 0, 345, 655, 0, 0, 200)"
   ]
  },
  {
   "cell_type": "markdown",
   "id": "ee918dcc",
   "metadata": {},
   "source": [
    "## Задача 3"
   ]
  },
  {
   "cell_type": "markdown",
   "id": "3a31fd77",
   "metadata": {},
   "source": [
    "#### Даны два списка.\n",
    "#### Дата покупки\n",
    "['2021-09-14', '2021-12-15', '2021-09-08', '2021-12-05', '2021-10-09', '2021-09-30', '2021-12-22', '2021-11-29', '2021-12-24', '2021-11-26', '2021-10-27', '2021-12-18', '2021-11-09', '2021-11-23', '2021-09-27', '2021-10-02', '2021-12-27', '2021-09-20', '2021-12-13', '2021-11-01', '2021-11-09', '2021-12-06', '2021-12-08', '2021-10-09', '2021-10-31', '2021-09-30', '2021-11-09', '2021-12-13', '2021-10-26', '2021-12-09']\n",
    "#### Суммы покупок по датам\n",
    "[1270, 8413, 9028, 3703, 5739, 4095, 295, 4944, 5723, 3701, 4471, 651, 7037, 4274, 6275, 4988, 6930, 2971, 6592, 2004, 2822, 519, 3406, 2732, 5015, 2008, 316, 6333, 5700, 2887]\n"
   ]
  },
  {
   "cell_type": "markdown",
   "id": "a61e2acc",
   "metadata": {},
   "source": [
    "#### 3.1 Найдите, какая выручка у компании в ноябре. Используйте list comprehensions"
   ]
  },
  {
   "cell_type": "code",
   "execution_count": 20,
   "id": "9440efb8",
   "metadata": {},
   "outputs": [],
   "source": [
    "date = ['2021-09-14', '2021-12-15', '2021-09-08', '2021-12-05', '2021-10-09', '2021-09-30', '2021-12-22', '2021-11-29', '2021-12-24', '2021-11-26', '2021-10-27', '2021-12-18', '2021-11-09', '2021-11-23', '2021-09-27',\n",
    "        '2021-10-02', '2021-12-27', '2021-09-20', '2021-12-13', '2021-11-01', '2021-11-09', '2021-12-06', '2021-12-08', '2021-10-09', '2021-10-31', '2021-09-30', '2021-11-09', '2021-12-13', '2021-10-26', '2021-12-09']\n",
    "\n",
    "purchases_by_dates = [1270, 8413, 9028, 3703, 5739, 4095, 295, 4944, 5723, 3701, 4471, 651, 7037, 4274,\n",
    "           6275, 4988, 6930, 2971, 6592, 2004, 2822, 519, 3406, 2732, 5015, 2008, 316, 6333, 5700, 2887]"
   ]
  },
  {
   "cell_type": "code",
   "execution_count": 21,
   "id": "a2308505",
   "metadata": {},
   "outputs": [],
   "source": [
    "november_sales = [sale for date, sale in zip(\n",
    "    date, purchases_by_dates) if date.split('-')[1] == '11']"
   ]
  },
  {
   "cell_type": "code",
   "execution_count": 22,
   "id": "2cc702ec",
   "metadata": {},
   "outputs": [
    {
     "name": "stdout",
     "output_type": "stream",
     "text": [
      "Выручка компании в ноябре = 25098\n"
     ]
    }
   ],
   "source": [
    "november_revenue = sum(november_sales)\n",
    "\n",
    "print('Выручка компании в ноябре =', november_revenue)"
   ]
  },
  {
   "cell_type": "markdown",
   "id": "15451f09",
   "metadata": {},
   "source": [
    "#### 3.2 Найдите выручку компании в зависимости от месяца\n",
    "#### Для этого напишите функцию, которая на вход принимает список с датами и список с выручкой, а на выходе словарь, где ключи - это месяцы, а значения - это выручка.\n",
    "#### Используйте аннотирование типов."
   ]
  },
  {
   "cell_type": "code",
   "execution_count": 23,
   "id": "9b20ba34",
   "metadata": {},
   "outputs": [
    {
     "name": "stdout",
     "output_type": "stream",
     "text": [
      "Выручка по месяцам: {'сентябрь': 25647, 'октябрь': 28645, 'ноябрь': 25098, 'декабрь': 45452}\n"
     ]
    }
   ],
   "source": [
    "def transform_months(d: list, r: list) -> dict:\n",
    "    result = {}\n",
    "    m_name = ['январь', 'февраль', 'март', 'апрель', 'май', 'июнь',\n",
    "              'июль', 'август', 'сентябрь', 'октябрь', 'ноябрь', 'декабрь']\n",
    "    m_txt = ['-01-', '-02-', '-03-', '-04-', '-05-', '-06-',\n",
    "             '-07-', '-08-', '-09-', '-10-', '-11-', '-12-']\n",
    "    for m in range(12):\n",
    "        r_s = sum(purchases_by_dates[i]\n",
    "                  for i in range(len(r)) if m_txt[m] in d[i])\n",
    "        if r_s != 0:\n",
    "            result.update({m_name[m]: r_s})\n",
    "    return (result)\n",
    "\n",
    "\n",
    "print('Выручка по месяцам:', transform_months(date, purchases_by_dates))"
   ]
  },
  {
   "cell_type": "code",
   "execution_count": null,
   "id": "5f74ceb6",
   "metadata": {},
   "outputs": [],
   "source": []
  }
 ],
 "metadata": {
  "kernelspec": {
   "display_name": "Python 3 (ipykernel)",
   "language": "python",
   "name": "python3"
  },
  "language_info": {
   "codemirror_mode": {
    "name": "ipython",
    "version": 3
   },
   "file_extension": ".py",
   "mimetype": "text/x-python",
   "name": "python",
   "nbconvert_exporter": "python",
   "pygments_lexer": "ipython3",
   "version": "3.9.13"
  }
 },
 "nbformat": 4,
 "nbformat_minor": 5
}
